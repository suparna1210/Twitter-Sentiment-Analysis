{
 "metadata": {
  "language_info": {
   "codemirror_mode": {
    "name": "ipython",
    "version": 3
   },
   "file_extension": ".py",
   "mimetype": "text/x-python",
   "name": "python",
   "nbconvert_exporter": "python",
   "pygments_lexer": "ipython3",
   "version": "3.8.5-final"
  },
  "orig_nbformat": 2,
  "kernelspec": {
   "name": "python3",
   "display_name": "Python 3",
   "language": "python"
  }
 },
 "nbformat": 4,
 "nbformat_minor": 2,
 "cells": [
  {
   "source": [
    "# A: Data Collection"
   ],
   "cell_type": "markdown",
   "metadata": {}
  },
  {
   "source": [
    "## Imports"
   ],
   "cell_type": "markdown",
   "metadata": {}
  },
  {
   "cell_type": "code",
   "execution_count": 143,
   "metadata": {
    "tags": []
   },
   "outputs": [],
   "source": [
    "# Install Libraries\n",
    "# !pip install textblob\n",
    "# !pip install tweepy\n",
    "# !pip install pycountry\n",
    "# !pip3 install nltk \n",
    "# !pip3 install -U setuptools wheel\n",
    "# !pip3 install spacy \n",
    "# !pip3 install pandas numpy seaborn matplotlib\n",
    "# !python3 -m spacy download en_core_web_sm\n",
    "# !pip3 install gensim\n",
    "# !pip install wordcloud\n",
    "# !pip install langdetect\n",
    "# !pip install pyquery\n",
    "# !pip install lxml\n",
    "# nltk.download('vader_lexicon')  \n",
    "# !pip install requests\n",
    "# !pip install schedule"
   ]
  },
  {
   "cell_type": "code",
   "execution_count": 20,
   "metadata": {},
   "outputs": [],
   "source": [
    "# Import Libraries\n",
    "from textblob import TextBlob\n",
    "import sys\n",
    "import tweepy\n",
    "import matplotlib.pyplot as plt\n",
    "import pandas as pd\n",
    "import numpy as np\n",
    "import os\n",
    "import nltk\n",
    "import pycountry\n",
    "import re\n",
    "import string\n",
    "import requests\n",
    "import json\n",
    "import schedule\n",
    "import time\n",
    "import datetime\n",
    "import csv\n",
    "from wordcloud import WordCloud, STOPWORDS\n",
    "from PIL import Image\n",
    "from nltk.sentiment.vader import SentimentIntensityAnalyzer\n",
    "from langdetect import detect\n",
    "from nltk.stem import SnowballStemmer\n",
    "from nltk.sentiment.vader import SentimentIntensityAnalyzer\n",
    "from sklearn.feature_extraction.text import CountVectorizer\n"
   ]
  },
  {
   "source": [
    "### Authentication for Twitter API"
   ],
   "cell_type": "markdown",
   "metadata": {}
  },
  {
   "cell_type": "code",
   "execution_count": 17,
   "metadata": {},
   "outputs": [],
   "source": [
    "# Authentication\n",
    "consumer_Key = 'chie8F9xbOWpMDOxJTolC89yy'\n",
    "consumer_Secret = 'WUQwRqXd7niAkOEBzZ5iOH76c4NCS6UunTNJ4IUSFuWempLcBQ'\n",
    "access_Token = '1356292685385105408-yP2gaDQkkHMSSa2hUcjfwSKueKen8v'\n",
    "access_Token_Secret = 'UlBapYsreywE4CyYARnEJmqDXlV5KrhXhgvWMmQGIoq3E'\n",
    "\n",
    "auth = tweepy.OAuthHandler(consumer_Key, consumer_Secret)\n",
    "auth.set_access_token(access_Token, access_Token_Secret)\n",
    "api = tweepy.API(auth)\n",
    "\n",
    "# curl -u 'chie8F9xbOWpMDOxJTolC89yy:WUQwRqXd7niAkOEBzZ5iOH76c4NCS6UunTNJ4IUSFuWempLcBQ' \\\n",
    "#   --data 'grant_type=client_credentials' \\\n",
    "#   'https://api.twitter.com/oauth2/token'"
   ]
  },
  {
   "cell_type": "code",
   "execution_count": 21,
   "metadata": {},
   "outputs": [],
   "source": [
    "#its bad practice to place your bearer token directly into the script (this is just done for illustration purposes)\n",
    "BEARER_TOKEN = \"AAAAAAAAAAAAAAAAAAAAAPgDNwEAAAAA5LZB%2F%2FVS6CkUQKsWmVwBVyQKXHk%3DUSoT6IfI2Fi052WlIqZjbOM1Duw1JTdm74ofZw6xvUwI1Z28sW\"\n",
    "#define search twitter function\n",
    "def search_twitter(query, tweet_fields, expansions, place_fields, bearer_token = BEARER_TOKEN):\n",
    "    headers = {\"Authorization\": \"Bearer {}\".format(bearer_token)}\n",
    "\n",
    "    url = \"https://api.twitter.com/2/tweets/search/recent?query={}&{}&{}&{}\".format(\n",
    "        query, tweet_fields, expansions, place_fields\n",
    "    )\n",
    "    response = requests.request(\"GET\", url, headers=headers)\n",
    "\n",
    "    print(response.status_code)\n",
    "\n",
    "    if response.status_code != 200:\n",
    "        raise Exception(response.status_code, response.text)\n",
    "    return response.json()\n",
    "    print (response)"
   ]
  },
  {
   "cell_type": "code",
   "execution_count": null,
   "metadata": {},
   "outputs": [],
   "source": []
  },
  {
   "source": [
    "### Retrieving tweets according to hashtags"
   ],
   "cell_type": "markdown",
   "metadata": {}
  },
  {
   "cell_type": "code",
   "execution_count": 22,
   "metadata": {},
   "outputs": [],
   "source": [
    "def isEnglish(text):\n",
    "    try:\n",
    "        text.encode(encoding='utf-8').decode('ascii')\n",
    "    except UnicodeDecodeError:\n",
    "        return False\n",
    "    else:\n",
    "        return True"
   ]
  },
  {
   "cell_type": "code",
   "execution_count": 23,
   "metadata": {},
   "outputs": [],
   "source": [
    "def get_woeid(api, locations):\n",
    "    twitter_world = api.trends_available()\n",
    "    places = {loc['name'].lower() : loc['woeid'] for loc in twitter_world};\n",
    "    woeids = []\n",
    "    for location in locations:\n",
    "        if location in places:\n",
    "            woeids.append(places[location])\n",
    "        else:\n",
    "            print(\"err: \",location,\" woeid does not exist in trending topics\")\n",
    "    return woeids"
   ]
  },
  {
   "cell_type": "code",
   "execution_count": 11,
   "metadata": {},
   "outputs": [
    {
     "output_type": "error",
     "ename": "NameError",
     "evalue": "name 'api' is not defined",
     "traceback": [
      "\u001b[0;31m---------------------------------------------------------------------------\u001b[0m",
      "\u001b[0;31mNameError\u001b[0m                                 Traceback (most recent call last)",
      "\u001b[0;32m<ipython-input-11-897c029ff00b>\u001b[0m in \u001b[0;36m<module>\u001b[0;34m\u001b[0m\n\u001b[0;32m----> 1\u001b[0;31m \u001b[0mget_woeid\u001b[0m\u001b[0;34m(\u001b[0m\u001b[0mapi\u001b[0m\u001b[0;34m,\u001b[0m\u001b[0;34m'canada'\u001b[0m\u001b[0;34m)\u001b[0m\u001b[0;34m\u001b[0m\u001b[0;34m\u001b[0m\u001b[0m\n\u001b[0m",
      "\u001b[0;31mNameError\u001b[0m: name 'api' is not defined"
     ]
    }
   ],
   "source": [
    "get_woeid(api,'canada')"
   ]
  },
  {
   "cell_type": "code",
   "execution_count": 12,
   "metadata": {},
   "outputs": [],
   "source": [
    "'''\n",
    "Getting Tweets for the given hashtag with max of 1000 popular tweets with english dialect\n",
    "'''\n",
    "query = \"#distancelearning\"\n",
    "def get_tweets(api, query):\n",
    "    tweets = []\n",
    "    for status in tweepy.Cursor(api.search,\n",
    "                       q=\"#distancelearning\",\n",
    "                       count=10,\n",
    "                       result_type='popular',\n",
    "                       include_entities=True,\n",
    "                       monitor_rate_limit=True, \n",
    "                       wait_on_rate_limit=True,\n",
    "                       lang=\"en\").items():\n",
    "     \n",
    "        # Getting only tweets which has english dialects\n",
    "        if isEnglish(status.text) == True:\n",
    "            tweets.append([status.id_str, query, status.created_at.strftime('%d-%m-%Y %H:%M'), status.user.screen_name, status.text])\n",
    "    return tweets"
   ]
  },
  {
   "cell_type": "code",
   "execution_count": null,
   "metadata": {},
   "outputs": [],
   "source": []
  },
  {
   "cell_type": "code",
   "execution_count": null,
   "metadata": {},
   "outputs": [],
   "source": [
    "# def get_trending_hashtags(api, location):\n",
    "#     woeids = get_woeid(api, location)\n",
    "#     trending = set()\n",
    "#     for woeid in woeids:\n",
    "#         try:\n",
    "#             trends = api.trends_place(woeid)\n",
    "#         except:\n",
    "#             print(\"API limit exceeded. Waiting for next hour\")\n",
    "#             #time.sleep(3605) # change to 5 for testing\n",
    "#             trends = api.trends_place(woeid)\n",
    "#         # Checking for English dialect Hashtags and storing text without #\n",
    "#         topics = [trend['name'][1:] for trend in trends[0]['trends'] if (trend['name'].find('#') == 0 and isEnglish(trend['name']) == True)]\n",
    "#         trending.update(topics)\n",
    "    \n",
    "#     return trending"
   ]
  },
  {
   "cell_type": "code",
   "execution_count": 24,
   "metadata": {},
   "outputs": [],
   "source": [
    "def twitter_bot(api, locations):\n",
    "    today = datetime.datetime.today().strftime(\"%d-%m-%Y-%s\")\n",
    "    if not os.path.exists(\"trending_tweets\"):\n",
    "        os.makedirs(\"trending_tweets\")\n",
    "    file_tweets = open(\"trending_tweets/\"+today+\"-tweets.csv\", \"a+\")\n",
    "    file_hashtags = open(\"trending_tweets/\"+today+\"-hashtags.csv\", \"w+\")\n",
    "    writer = csv.writer(file_tweets)\n",
    "    \n",
    "    hashtags = get_tweets(api, locations)\n",
    "    file_hashtags.write(\"\\n\".join(hashtags))\n",
    "    print(\"Hashtags written to file.\")\n",
    "    file_hashtags.close()\n",
    "    \n",
    "    for hashtag in hashtags:\n",
    "        try:\n",
    "            print(\"Getting Tweets for the hashtag: \", hashtag)\n",
    "            tweets = get_tweets(api, \"#\"+hashtag)\n",
    "        except:\n",
    "            print(\"API limit exceeded. Waiting for next hour\")\n",
    "            time.sleep(3605) # change to 0.2 sec for testing\n",
    "            tweets = get_tweets(api, \"#\"+hashtag)\n",
    "        for tweet in tweets:\n",
    "            writer.writerow(tweet)\n",
    "    \n",
    "    file_tweets.close()"
   ]
  },
  {
   "cell_type": "code",
   "execution_count": 25,
   "metadata": {},
   "outputs": [
    {
     "output_type": "stream",
     "name": "stdout",
     "text": [
      "Hashtags written to file.\n"
     ]
    }
   ],
   "source": [
    "twitter_bot(api, 'dubai')"
   ]
  },
  {
   "cell_type": "code",
   "execution_count": 26,
   "metadata": {},
   "outputs": [
    {
     "output_type": "stream",
     "name": "stdout",
     "text": [
      "Hashtags written to file.\n",
      "Hashtags written to file.\n",
      "Hashtags written to file.\n"
     ]
    },
    {
     "output_type": "error",
     "ename": "KeyboardInterrupt",
     "evalue": "",
     "traceback": [
      "\u001b[0;31m---------------------------------------------------------------------------\u001b[0m",
      "\u001b[0;31mKeyboardInterrupt\u001b[0m                         Traceback (most recent call last)",
      "\u001b[0;32m<ipython-input-26-a000bf4d9ce3>\u001b[0m in \u001b[0;36m<module>\u001b[0;34m\u001b[0m\n\u001b[1;32m     24\u001b[0m \u001b[0;34m\u001b[0m\u001b[0m\n\u001b[1;32m     25\u001b[0m \u001b[0;32mif\u001b[0m \u001b[0m__name__\u001b[0m \u001b[0;34m==\u001b[0m \u001b[0;34m\"__main__\"\u001b[0m\u001b[0;34m:\u001b[0m\u001b[0;34m\u001b[0m\u001b[0;34m\u001b[0m\u001b[0m\n\u001b[0;32m---> 26\u001b[0;31m     \u001b[0mmain\u001b[0m\u001b[0;34m(\u001b[0m\u001b[0;34m)\u001b[0m\u001b[0;34m\u001b[0m\u001b[0;34m\u001b[0m\u001b[0m\n\u001b[0m",
      "\u001b[0;32m<ipython-input-26-a000bf4d9ce3>\u001b[0m in \u001b[0;36mmain\u001b[0;34m()\u001b[0m\n\u001b[1;32m     21\u001b[0m     \u001b[0;32mwhile\u001b[0m \u001b[0;32mTrue\u001b[0m\u001b[0;34m:\u001b[0m\u001b[0;34m\u001b[0m\u001b[0;34m\u001b[0m\u001b[0m\n\u001b[1;32m     22\u001b[0m         \u001b[0mschedule\u001b[0m\u001b[0;34m.\u001b[0m\u001b[0mrun_pending\u001b[0m\u001b[0;34m(\u001b[0m\u001b[0;34m)\u001b[0m\u001b[0;34m\u001b[0m\u001b[0;34m\u001b[0m\u001b[0m\n\u001b[0;32m---> 23\u001b[0;31m         \u001b[0mtime\u001b[0m\u001b[0;34m.\u001b[0m\u001b[0msleep\u001b[0m\u001b[0;34m(\u001b[0m\u001b[0;36m1\u001b[0m\u001b[0;34m)\u001b[0m\u001b[0;34m\u001b[0m\u001b[0;34m\u001b[0m\u001b[0m\n\u001b[0m\u001b[1;32m     24\u001b[0m \u001b[0;34m\u001b[0m\u001b[0m\n\u001b[1;32m     25\u001b[0m \u001b[0;32mif\u001b[0m \u001b[0m__name__\u001b[0m \u001b[0;34m==\u001b[0m \u001b[0;34m\"__main__\"\u001b[0m\u001b[0;34m:\u001b[0m\u001b[0;34m\u001b[0m\u001b[0;34m\u001b[0m\u001b[0m\n",
      "\u001b[0;31mKeyboardInterrupt\u001b[0m: "
     ]
    }
   ],
   "source": [
    "def main():\n",
    "    ''' \n",
    "    Use location = [] list for getting trending tags from different countries. \n",
    "    I have limited number of request hence I am using only 1 location\n",
    "    '''\n",
    "    # Authentication\n",
    "    consumer_Key = 'chie8F9xbOWpMDOxJTolC89yy'\n",
    "    consumer_Secret = 'WUQwRqXd7niAkOEBzZ5iOH76c4NCS6UunTNJ4IUSFuWempLcBQ'\n",
    "    access_Token = '1356292685385105408-yP2gaDQkkHMSSa2hUcjfwSKueKen8v'\n",
    "    access_Token_Secret = 'UlBapYsreywE4CyYARnEJmqDXlV5KrhXhgvWMmQGIoq3E'\n",
    "\n",
    "    auth = tweepy.OAuthHandler(consumer_Key, consumer_Secret)\n",
    "    auth.set_access_token(access_Token, access_Token_Secret)\n",
    "    api = tweepy.API(auth)\n",
    "    #locations = ['new york', 'los angeles', 'philadelphia', 'barcelona', 'canada', 'united kingdom', 'india']        \n",
    "    locations = ['united arab emirates']\n",
    "    # api = api()\n",
    "    \n",
    "    # schedule.every().day.at(\"00:00\").do(twitter_bot, api, locations)\n",
    "    schedule.every(10).seconds.do(twitter_bot, api, locations)\n",
    "    while True:\n",
    "        schedule.run_pending()\n",
    "        time.sleep(1)\n",
    "        \n",
    "if __name__ == \"__main__\":\n",
    "    main()"
   ]
  },
  {
   "cell_type": "code",
   "execution_count": 35,
   "metadata": {},
   "outputs": [],
   "source": [
    "#its bad practice to place your bearer token directly into the script (this is just done for illustration purposes)\n",
    "BEARER_TOKEN = \"AAAAAAAAAAAAAAAAAAAAAPgDNwEAAAAA5LZB%2F%2FVS6CkUQKsWmVwBVyQKXHk%3DUSoT6IfI2Fi052WlIqZjbOM1Duw1JTdm74ofZw6xvUwI1Z28sW\"\n",
    "#define search twitter function\n",
    "# place_fields = place_fields, \n",
    "def search_twitter(query, tweet_fields, place_fields, bearer_token = BEARER_TOKEN):\n",
    "    headers = {\"Authorization\": \"Bearer {}\".format(bearer_token)}\n",
    "\n",
    "    # url = \"https://api.twitter.com/2/tweets/search/recent?query={}&{}&{}\".format(\n",
    "    #     query, tweet_fields, place_fields \n",
    "    # )\n",
    "    url = \"https://api.twitter.com/1.1/geo/search/recent?query={}&{}&{}\".format(query, tweet_fields, place_fields) \n",
    "    response = requests.request(\"GET\", url, headers=headers)\n",
    "\n",
    "    print(response.status_code)\n",
    "\n",
    "    if response.status_code != 200:\n",
    "        raise Exception(response.status_code, response.text)\n",
    "    return response.json()\n",
    "    print (response)"
   ]
  },
  {
   "cell_type": "code",
   "execution_count": 37,
   "metadata": {},
   "outputs": [],
   "source": [
    "#its bad practice to place your bearer token directly into the script (this is just done for illustration purposes)\n",
    "BEARER_TOKEN = \"AAAAAAAAAAAAAAAAAAAAAPgDNwEAAAAA5LZB%2F%2FVS6CkUQKsWmVwBVyQKXHk%3DUSoT6IfI2Fi052WlIqZjbOM1Duw1JTdm74ofZw6xvUwI1Z28sW\"\n",
    "#define search twitter function\n",
    "# place_fields = place_fields, \n",
    "def search_twitter(query, tweet_fields, place_fields, bearer_token = BEARER_TOKEN):\n",
    "    headers = {\"Authorization\": \"Bearer {}\".format(bearer_token)}\n",
    "\n",
    "    url = \"https://api.twitter.com/2/tweets/search/recent?query={}&{}&{}\".format(\n",
    "        query, tweet_fields, place_fields \n",
    "    )\n",
    "    # url = \"https://api.twitter.com/1.1/geo/search/recent?query={}&{}&{}\".format(query, tweet_fields, place_fields) \n",
    "    response = requests.request(\"GET\", url, headers=headers)\n",
    "\n",
    "    print(response.status_code)\n",
    "\n",
    "    if response.status_code != 200:\n",
    "        raise Exception(response.status_code, response.text)\n",
    "    return response.json()\n",
    "    print (response)"
   ]
  },
  {
   "cell_type": "code",
   "execution_count": 70,
   "metadata": {},
   "outputs": [
    {
     "output_type": "stream",
     "name": "stdout",
     "text": [
      "200\n",
      "<bound method Response.json of <Response [200]>>\n",
      "<bound method Response.json of <Response [200]>>\n"
     ]
    }
   ],
   "source": [
    "#search term\n",
    "query = \"(online school) OR (online learning) OR (distance learning) OR (online classes) OR (online class) OR (remote learning)\"\n",
    "#twitter fields to be returned by api call\n",
    "tweet_fields = \"tweet.fields=text,author_id,created_at,geo\"\n",
    "expansions = \"expansions=geo.place_id\"\n",
    "place_fields = \"place.fields=contained_within,country,country_code,full_name,geo,id,name,place_type\"\n",
    "\n",
    "#twitter api call\n",
    "json_response = search_twitter(query=query, tweet_fields=tweet_fields, place_fields=place_fields, bearer_token=BEARER_TOKEN)\n",
    "# place_fields = place_fields, \n",
    "#pretty printing\n",
    "# print(json.dumps(json_response['data'][0], indent=4, sort_keys=True))\n",
    "# print(json_response.data[0]\n",
    "headers = {\"Authorization\": \"Bearer {}\".format(\"AAAAAAAAAAAAAAAAAAAAAPgDNwEAAAAA5LZB%2F%2FVS6CkUQKsWmVwBVyQKXHk%3DUSoT6IfI2Fi052WlIqZjbOM1Duw1JTdm74ofZw6xvUwI1Z28sW\")}\n",
    "for i in range(0,len(json_response)):\n",
    "    url = \"https://api.twitter.com/1.1/geo/reverse_geocode.json?id={}&granularity=country\".format(json_response['data'][i]['id'])\n",
    "    response = requests.request(\"GET\", url, headers=headers)\n",
    "    print (response.json)"
   ]
  },
  {
   "cell_type": "code",
   "execution_count": null,
   "metadata": {},
   "outputs": [],
   "source": []
  },
  {
   "cell_type": "code",
   "execution_count": 186,
   "metadata": {},
   "outputs": [
    {
     "output_type": "error",
     "ename": "AttributeError",
     "evalue": "'function' object has no attribute 'url'",
     "traceback": [
      "\u001b[0;31m---------------------------------------------------------------------------\u001b[0m",
      "\u001b[0;31mAttributeError\u001b[0m                            Traceback (most recent call last)",
      "\u001b[0;32m<ipython-input-186-d874331a202e>\u001b[0m in \u001b[0;36m<module>\u001b[0;34m\u001b[0m\n\u001b[0;32m----> 1\u001b[0;31m \u001b[0mprint\u001b[0m\u001b[0;34m(\u001b[0m\u001b[0msearch_twitter\u001b[0m\u001b[0;34m.\u001b[0m\u001b[0murl\u001b[0m\u001b[0;34m)\u001b[0m\u001b[0;34m\u001b[0m\u001b[0;34m\u001b[0m\u001b[0m\n\u001b[0m",
      "\u001b[0;31mAttributeError\u001b[0m: 'function' object has no attribute 'url'"
     ]
    }
   ],
   "source": [
    "print(search_twitter.url)"
   ]
  },
  {
   "cell_type": "code",
   "execution_count": 109,
   "metadata": {},
   "outputs": [],
   "source": [
    "# Define the search term and the date_since date as variables\n",
    "keyword = \"#distancelearning\" \n",
    "date_since = \"2020-03-16\"\n",
    "noOfTweet = 100\n",
    "geo = \"25.204849,55.270782,100km\"\n",
    "new_search = keyword + \" -filter:retweets\" + \"geocode:\" + geo"
   ]
  },
  {
   "cell_type": "code",
   "execution_count": 112,
   "metadata": {},
   "outputs": [
    {
     "output_type": "stream",
     "name": "stdout",
     "text": [
      "For teachers #distancelearning (or about to restart in-person) &amp; looking for ways to maintain or reawaken engagemen… https://t.co/aljLryUZ7B\n",
      "RT @kat_goyette: Gain a fresh perspective/strategies for supporting educators toward effective technology integration: The Complete EdTech…\n",
      "RT @kat_goyette: Looking for #distancelearning and #hybridlearning resources, based on protocol, foundation of #udl brain research? Lesson…\n",
      "RT @WendellGMilesMD: Getting my meeting on with #aspsspringmeeting! #distancelearning is not just for the kids! #keeplearning #plasticsurge…\n",
      "RT @danielbbudd: Machine Learning is very approachable within the Swift ecosystem - check out my series of tutorials to create an Image Cla…\n",
      "RT @kat_goyette: Gain a fresh perspective/strategies for supporting educators toward effective technology integration: The Complete EdTech…\n",
      "Gain a fresh perspective/strategies for supporting educators toward effective technology integration: The Complete… https://t.co/xuK8exfWX3\n",
      "RT @danielbbudd: Machine Learning is very approachable within the Swift ecosystem - check out my series of tutorials to create an Image Cla…\n",
      "Looking for #distancelearning and #hybridlearning resources, based on protocol, foundation of #udl brain research?… https://t.co/jHIq6VQj6y\n",
      "Getting my meeting on with #aspsspringmeeting! #distancelearning is not just for the kids! #keeplearning… https://t.co/x7vTRA7nSo\n",
      "RT @MattRhoads1990: Today I am super stoked to announce that my new book Navigating the Toggled Term: A Guide for K-12 Classroom and School…\n",
      "RT @danielbbudd: Machine Learning is very approachable within the Swift ecosystem - check out my series of tutorials to create an Image Cla…\n",
      "RT @kat_goyette: I'm excited to speak about #sel #organicedtech #udl, all for #distancelearning #hybridlearning at #springcue! https://t.co…\n",
      "RT @MattRhoads1990: Today I am super stoked to announce that my new book Navigating the Toggled Term: A Guide for K-12 Classroom and School…\n",
      "RT @sharemylesson: ➕ ➖ Free webinar by the @librarycongress: We Use #Math Where?! Using Historical Graphs &amp; Charts to Connect Math across t…\n",
      "RT @tekkiweb: eLearning Industry: The Future Is Overwhelming \n",
      "\n",
      "https://t.co/WuAOqHdtU8 \n",
      "\n",
      "#elearning #education #onlinelearning #edtech #dis…\n",
      "I'm excited to speak about #sel #organicedtech #udl, all for #distancelearning #hybridlearning at #springcue! https://t.co/5IKvNxEgSc\n",
      "RT @RellaTink: What we do for ourselves dies with us. What we do for others and the world remains and is immortal.\n",
      "\n",
      "https://t.co/2FgtwfpmxU…\n",
      "RT @MattRhoads1990: Today I am super stoked to announce that my new book Navigating the Toggled Term: A Guide for K-12 Classroom and School…\n",
      "Today I am super stoked to announce that my new book Navigating the Toggled Term: A Guide for K-12 Classroom and Sc… https://t.co/4Ja0nQBFws\n",
      "RT @anne_teaches: Students grow when they reflect on and take charge of their own learning! I found this great Weekly Reflection piece in t…\n",
      "➕ ➖ Free webinar by the @librarycongress: We Use #Math Where?! Using Historical Graphs &amp; Charts to Connect Math acr… https://t.co/XzaB0OF7pP\n",
      "eLearning Industry: The Future Is Overwhelming \n",
      "\n",
      "https://t.co/WuAOqHdtU8 \n",
      "\n",
      "#elearning #education #onlinelearning… https://t.co/21kcm0bH3m\n",
      "RT @ArchesComputing: Another wonderful piece of #computing #distancelearning from MS to make us all proud  @ArchesSchool Original artwork t…\n",
      "RT @quaversal: How is your #campus #WirelessNetwork performing for your #students and #faculty? How about for #distancelearning and #distan…\n",
      "RT @GuideCalculator: Iteration using ANS on a Casio Classwiz ➜ https://t.co/FEKUH2BaV6  | #onlinelearning #distancelearning #homeschool #ho…\n",
      "RT @Jentechnology: Come checkout @justmoteHQ at #cue21! Come talk to @JNealeUK and learning about this feedback extension.\n",
      "\n",
      "I enjoyed meeti…\n",
      "RT @sharemylesson: Sign up for a session to learn the essentials for enhancing an equity mindset &amp; strategies to practice in the #k12 class…\n",
      "Thank you @JazzNightSchool for participating in today's workshop, \"Bop Chops! How To Improvise Over Rhythm Changes\"… https://t.co/dOy20mPTCu\n",
      "How is your #campus #WirelessNetwork performing for your #students and #faculty? How about for #distancelearning an… https://t.co/gNfHYSjTmW\n",
      "RT @E_Sheninger: Hybrid and remote learning resources updated weekly https://t.co/iRBpqlHqlO #edchat #suptchat #cpchat #remotelearning #hyb…\n",
      "Iteration using ANS on a Casio Classwiz ➜ https://t.co/FEKUH2BaV6  | #onlinelearning #distancelearning #homeschool… https://t.co/oqXSKidmwZ\n",
      "Come checkout @justmoteHQ at #cue21! Come talk to @JNealeUK and learning about this feedback extension.\n",
      "\n",
      "I enjoyed… https://t.co/GY9HczZiz1\n",
      "Sign up for a session to learn the essentials for enhancing an equity mindset &amp; strategies to practice in the #k12… https://t.co/RJyQPbjXav\n",
      "RT @BellringerThe: CIVIL WAR WORKSHEET PACKS! Each worksheet has video that goes with it check it out at https://t.co/ekM6jEQdON\n",
      "\n",
      "#history…\n",
      "RT @RellaTink: What we do for ourselves dies with us. What we do for others and the world remains and is immortal.\n",
      "\n",
      "https://t.co/2FgtwfpmxU…\n",
      "RT @Durrant_Jenny: A privilege to share my #DistanceLearning experience in Museums Journal @MuseumsAssoc this month.\n",
      "\n",
      "Waving hello to my am…\n",
      "RT @EdInvesting: China agents \"neutral to pessimistic\" about adding online course recruitment to their services: https://t.co/sfscXqjvCb #I…\n",
      "RT @TheFeltTipPen: MONTHS of Digital, Interactive work for addition, subtraction, and Algebraic thinking! #distancelearning resource\n",
      "\n",
      "Digit…\n",
      "CIVIL WAR WORKSHEET PACKS! Each worksheet has video that goes with it check it out at https://t.co/ekM6jEQdON… https://t.co/LjSghjOU3k\n",
      "RT @RellaTink: What we do for ourselves dies with us. What we do for others and the world remains and is immortal.\n",
      "\n",
      "https://t.co/2FgtwfpmxU…\n",
      "What we do for ourselves dies with us. What we do for others and the world remains and is immortal.… https://t.co/43RCaZ7fkh\n",
      "A privilege to share my #DistanceLearning experience in Museums Journal @MuseumsAssoc this month.\n",
      "\n",
      "Waving hello to… https://t.co/R1VFxNoZQW\n",
      "China agents \"neutral to pessimistic\" about adding online course recruitment to their services:… https://t.co/1JYjawWF2b\n",
      "MONTHS of Digital, Interactive work for addition, subtraction, and Algebraic thinking! #distancelearning resource… https://t.co/S6xIvg431J\n",
      "RT @EstoniaEdu: How to be well prepared for distance education? Prof @pedaste of @unitartu provided a view on how the future of education w…\n",
      "RT @danceswithkids: It’s a real bummer we didn’t spend this past year (and counting, for some of us) reimagining public education. #school…\n",
      "RT @readability_app: \"This work of social-emotional learning and mindfulness has to be our foundation because that’s how we ensure we're me…\n",
      "RT @sharemylesson: 🦉FREE webinar: 7 Principles for Deconstructing Classroom Instruction: Moving Forward w Lessons Learned by @saribethrose.…\n",
      "RT @sylvan_ct: Read about Dr. Brittney J. Fusilier's experience with remote learning and Sylvan: https://t.co/PPMTA0zTwS \n",
      "\n",
      "#sylvanlearning…\n",
      "RT @TeacherSource: Check out our latest article: \"Keep It Simple\" Science Ideas\n",
      "https://t.co/edX68isgKl\n",
      "#Science #KidScience #DistanceLearn…\n",
      "RT @M07Lawrence: Cisco @Webex for #education is simple, smart, seamless, secure, and supported. Learn more about @Cisco solutions for #dist…\n",
      "RT @EvanKirstel: 🎹 Learn to play piano through a video game! #remotelearning #distancelearning #piano #edtech #musiclessons https://t.co/Ch…\n",
      "RT @EvanKirstel: 🎹 Learn to play piano through a video game! #remotelearning #distancelearning #piano #edtech #musiclessons https://t.co/Ch…\n",
      "It’s a real bummer we didn’t spend this past year (and counting, for some of us) reimagining public education. #school #distancelearning\n",
      "\"This work of social-emotional learning and mindfulness has to be our foundation because that’s how we ensure we're… https://t.co/pcPRROte3q\n",
      "RT @calacademy: Have a mini marine biologist age 4–8? Our newest (free!) activity pack explores Earth’s incredible coral reefs—with 4 days’…\n",
      "RT @sharemylesson: 🦉FREE webinar: 7 Principles for Deconstructing Classroom Instruction: Moving Forward w Lessons Learned by @saribethrose.…\n",
      "RT @sharemylesson: Six 👣 Steps to Accelerate Student Learning in PreK-5. Register today for this free enlightening webinar on effective lea…\n",
      "RT @AZBoilermaker: Just found out my kids' elementary school has a Covid outbreak. They are back to distance learning until April 2nd. \n",
      "#di…\n",
      "RT @sharemylesson: 🦉FREE webinar: 7 Principles for Deconstructing Classroom Instruction: Moving Forward w Lessons Learned by @saribethrose.…\n",
      "🦉FREE webinar: 7 Principles for Deconstructing Classroom Instruction: Moving Forward w Lessons Learned by… https://t.co/svTbVPbvki\n",
      "Read about Dr. Brittney J. Fusilier's experience with remote learning and Sylvan: https://t.co/PPMTA0zTwS… https://t.co/wAHPYylu50\n",
      "Check out our latest article: \"Keep It Simple\" Science Ideas\n",
      "https://t.co/edX68isgKl\n",
      "#Science #KidScience… https://t.co/0W35fRYBTr\n",
      "Cisco @Webex for #education is simple, smart, seamless, secure, and supported. Learn more about @Cisco solutions fo… https://t.co/2CEY4fEWm8\n",
      "RT @TheFeltTipPen: Newest #Distancelearning resource!\n",
      "\n",
      "Digital Interactive Subtraction Lesson and Task Cards | Fact Fluency | Google  https…\n",
      "RT @Rdene915: Interested in writing a guest blog post? Share what you are doing in your classroom. More info here about submissions: https:…\n",
      "RT @getNexusEdge: It is possible to review and annotate your #students' submission directly on @CanvasLMS. Open the document with DocViewer…\n",
      "RT @getNexusEdge: It is possible to review and annotate your #students' submission directly on @CanvasLMS. Open the document with DocViewer…\n",
      "RT @writingforkidz: (8) 220+ Page Volumes are now available on Amazon! #bible #education #homeschool #homeschoolmom #homeschoolplanning #ho…\n",
      "RT @anne_teaches: Students grow when they reflect on and take charge of their own learning! I found this great Weekly Reflection piece in t…\n",
      "RT @Rdene915: Interested in writing a guest blog post? Share what you are doing in your classroom. More info here about submissions: https:…\n",
      "RT @misstechqueen: Stay safe everyone!😷💗\n",
      "#stem #covid #schoolactivities #teched #teachersofinstagram #iteach #iteachfirst #iteachsecond #co…\n",
      "Newest #Distancelearning resource!\n",
      "\n",
      "Digital Interactive Subtraction Lesson and Task Cards | Fact Fluency | Google  https://t.co/wfBYf61Gur\n",
      "RT @Rdene915: Interested in writing a guest blog post? Share what you are doing in your classroom. More info here about submissions: https:…\n",
      "Interested in writing a guest blog post? Share what you are doing in your classroom. More info here about submissio… https://t.co/qUHlvTGrJ0\n",
      "It is possible to review and annotate your #students' submission directly on @CanvasLMS. Open the document with Doc… https://t.co/Hs4I3JB2ca\n",
      "(8) 220+ Page Volumes are now available on Amazon! #bible #education #homeschool #homeschoolmom #homeschoolplanning… https://t.co/MbyZWoU21W\n",
      "Students grow when they reflect on and take charge of their own learning! I found this great Weekly Reflection piec… https://t.co/lBJuiR6h2C\n",
      "RT @TCRWP: #tcrwp is also offering #SummerInstitutes in August for Reading and Writing!\n",
      "\n",
      "Check out our website for all Summer learning oppo…\n",
      "🏫Looking to help your students catch up in math?  The MathLinks team has a solid plan for you. ⬆️Get the plan --… https://t.co/BhPjhW37QD\n",
      "Six 👣 Steps to Accelerate Student Learning in PreK-5. Register today for this free enlightening webinar on effectiv… https://t.co/b7Uh4b9iRI\n",
      "RT @TCRWP: Looking forward to seeing y'all on Zoom tomorrow! \n",
      "Kicks off at 9AM EDT\n",
      "View the schedule and more on our website https://t.co/H…\n",
      "Grateful to see \"The Complete EdTech Coach\" provides value to those navigating distance/hybrid learning environment… https://t.co/NNxvARwJjZ\n",
      "Join my webinar entitled The Post-Pandemic Classroom: Where Classroom Practice Meets Distance Learning using Blende… https://t.co/K9xfOj8dRm\n",
      "RT @RellaTink: The greatest GOOD is what we do for one another.\n",
      "\n",
      "https://t.co/wUaT48xs6s\n",
      "\n",
      "#inktoberday #technology #stemeducation #distance…\n",
      "RT @DrBruceAJohnson: Adjuncts with all level of experience can benefit from Dr. J's experience: https://t.co/OVxEfvrIXP #onlineteaching #di…\n",
      "RT @DrBruceAJohnson: What's the latest with online cheating and online proctoring? https://t.co/QlaBKMkR90  #distancelearning via @ecampusn…\n",
      "Looking at you U.S. education system. Already seeing some collective amnesia around what we learned during… https://t.co/9bp7cLjY1U\n",
      "RT @DrBruceAJohnson: Strategy #1: Establish a proper temperament and know your mental setpoint. By Dr. J @CapellaU https://t.co/1w3jLK5JGZ…\n",
      "RT @StratfordAbuja: It’s important to seize the day, but always make time to go deeper and wider in your learning.\n",
      "\n",
      "#studyinuk #distancelea…\n",
      "The greatest GOOD is what we do for one another.\n",
      "\n",
      "https://t.co/wUaT48xs6s\n",
      "\n",
      "#inktoberday #technology #stemeducation… https://t.co/uY3EPDfcD3\n",
      "RT @educatoralex: 🕚LAST CHANCE...IN ONE HOUR\n",
      "\n",
      "🚗DRIVE🚦 Faster\n",
      " \n",
      "Learn Newer Features of Google Drive\n",
      " \n",
      "SAT., March 20\n",
      "11a-12p\n",
      " \n",
      "⚠️https://t.…\n",
      "RT @danielbbudd: Inspired by @XpatEducator I created an Xcode One-Pager to help students and teachers get up and running with Xcode - https…\n",
      "RT @EthertonC: Learning from @TammyDunbar as we discuss ways to bring students closer while online. So practical!! #NCCE21 #IamNCCE #distan…\n",
      "Adjuncts with all level of experience can benefit from Dr. J's experience: https://t.co/OVxEfvrIXP #onlineteaching… https://t.co/09QTLpvvKr\n",
      "What's the latest with online cheating and online proctoring? https://t.co/QlaBKMkR90  #distancelearning via @ecampusnews\n",
      "Strategy #1: Establish a proper temperament and know your mental setpoint. By Dr. J @CapellaU… https://t.co/eGuxFDhVFa\n",
      "RT @PintoBeanz11: We've redefined the \"Wish You Well\" ritual to work w/ young children in any learning model. More details in Chapter 1 of…\n",
      "It’s important to seize the day, but always make time to go deeper and wider in your learning.\n",
      "\n",
      "#studyinuk… https://t.co/qpkXkqJdkn\n"
     ]
    }
   ],
   "source": [
    "#Sentiment Analysis\n",
    "def percentage(part,whole):\n",
    " return 100 * float(part)/float(whole)\n",
    "# keyword = input('Please enter keyword or hashtag to search: ')\n",
    "# noOfTweet = int(input ('Please enter how many tweets to analyze: '))\n",
    "tweets = tweepy.Cursor(api.search, q=new_search,lang=\"en\", since=date_since).items(noOfTweet)\n",
    "positive = 0\n",
    "negative = 0\n",
    "neutral = 0\n",
    "polarity = 0\n",
    "tweet_list = []\n",
    "neutral_list = []\n",
    "negative_list = []\n",
    "positive_list = []\n",
    "\n",
    "# users_locs = [[tweet.user.screen_name, tweet.user.location] for tweet in tweets]\n",
    "# users_locs = []\n",
    "for tweet in tweets:\n",
    "    print(tweet.text)\n",
    "    # print(tweet.user.location)\n",
    "    # if (tweet.user.location=='Dubai'):\n",
    "    #     users_locs.append(tweet.text)\n",
    "\n",
    "    tweet_list.append(tweet.text)\n",
    "    analysis = TextBlob(tweet.text)\n",
    "    score = SentimentIntensityAnalyzer().polarity_scores(tweet.text)\n",
    "    neg = score['neg']\n",
    "    neu = score['neu']\n",
    "    pos = score['pos']\n",
    "    comp = score['compound']\n",
    "    polarity += analysis.sentiment.polarity\n",
    " \n",
    "    if neg > pos:\n",
    "        negative_list.append(tweet.text)\n",
    "        negative += 1\n",
    "    elif pos > neg:\n",
    "        positive_list.append(tweet.text)\n",
    "        positive += 1\n",
    " \n",
    "    elif pos == neg:\n",
    "        neutral_list.append(tweet.text)\n",
    "        neutral += 1\n",
    "positive = percentage(positive, noOfTweet)\n",
    "negative = percentage(negative, noOfTweet)\n",
    "neutral = percentage(neutral, noOfTweet)\n",
    "polarity = percentage(polarity, noOfTweet)\n",
    "positive = format(positive, '.1f')\n",
    "negative = format(negative, '.1f')\n",
    "neutral = format(neutral, '.1f')"
   ]
  },
  {
   "cell_type": "code",
   "execution_count": 111,
   "metadata": {},
   "outputs": [
    {
     "output_type": "stream",
     "name": "stdout",
     "text": [
      "It’s important to seize the day, but always make time to go deeper and wider in your learning.\n\n#studyinuk… https://t.co/qpkXkqJdkn\n"
     ]
    }
   ],
   "source": [
    "print(tweet.text)"
   ]
  },
  {
   "cell_type": "code",
   "execution_count": null,
   "metadata": {},
   "outputs": [],
   "source": []
  }
 ]
}